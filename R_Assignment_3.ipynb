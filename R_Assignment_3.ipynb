{
  "nbformat": 4,
  "nbformat_minor": 0,
  "metadata": {
    "colab": {
      "provenance": [],
      "gpuType": "T4",
      "authorship_tag": "ABX9TyMEI1E8L+euuvDGWQgTtla5",
      "include_colab_link": true
    },
    "kernelspec": {
      "name": "ir",
      "display_name": "R"
    },
    "language_info": {
      "name": "R"
    }
  },
  "cells": [
    {
      "cell_type": "markdown",
      "metadata": {
        "id": "view-in-github",
        "colab_type": "text"
      },
      "source": [
        "<a href=\"https://colab.research.google.com/github/raj-027/R-Programs/blob/main/R_Assignment_3.ipynb\" target=\"_parent\"><img src=\"https://colab.research.google.com/assets/colab-badge.svg\" alt=\"Open In Colab\"/></a>"
      ]
    },
    {
      "cell_type": "code",
      "execution_count": 9,
      "metadata": {
        "colab": {
          "base_uri": "https://localhost:8080/"
        },
        "id": "SAur-FPUbr9q",
        "outputId": "a33deda8-7a51-4ba9-8aae-c1b7b13d344f"
      },
      "outputs": [
        {
          "output_type": "stream",
          "name": "stderr",
          "text": [
            "The number is positive.\n",
            "\n"
          ]
        }
      ],
      "source": [
        "\n",
        "# if else statement\n",
        "\n",
        "number <- 10\n",
        "if (number > 0) {\n",
        "  message(\"The number is positive.\")\n",
        "} else if (number < 0) {\n",
        "  message(\"The number is negative.\")\n",
        "} else {\n",
        "  message(\"The number is zero.\")\n",
        "}\n"
      ]
    },
    {
      "cell_type": "code",
      "source": [
        "# elseif statement\n",
        "score <- 85\n",
        "if (score >= 90) {\n",
        "  message(\"Grade: A\")\n",
        "} else if (score >= 80) {\n",
        "  message(\"Grade: B\")\n",
        "} else if (score >= 70) {\n",
        "  message(\"Grade: C\")\n",
        "} else if (score >= 60) {\n",
        "  message(\"Grade: D\")\n",
        "} else {\n",
        "  message(\"Grade: F\")\n",
        "}"
      ],
      "metadata": {
        "colab": {
          "base_uri": "https://localhost:8080/"
        },
        "id": "VPLV-KfRcNf3",
        "outputId": "c31c0c15-ff17-496f-c69e-7bf6d02fb3cf"
      },
      "execution_count": 2,
      "outputs": [
        {
          "output_type": "stream",
          "name": "stderr",
          "text": [
            "Grade: B\n",
            "\n"
          ]
        }
      ]
    },
    {
      "cell_type": "code",
      "source": [
        "# is.integer example\n",
        "X <- 8\n",
        "if (is.integer(X)) {\n",
        "  print(\"X is an Integer\")\n",
        "} else {\n",
        "  print(\"X is not an Integer\")\n",
        "}\n",
        "\n"
      ],
      "metadata": {
        "colab": {
          "base_uri": "https://localhost:8080/"
        },
        "id": "3WWWORoMcNcf",
        "outputId": "68ef65a1-1029-4aa4-ab65-066c31e74784"
      },
      "execution_count": 4,
      "outputs": [
        {
          "output_type": "stream",
          "name": "stdout",
          "text": [
            "[1] \"X is not an Integer\"\n"
          ]
        }
      ]
    },
    {
      "cell_type": "code",
      "source": [
        "# Define a character vector\n",
        "fruits <- c(\"apple\", \"banana\", \"cherry\")\n",
        "\n",
        "if (\"apple\" %in% fruits) {\n",
        "  print(\"apple is found\")\n",
        "} else {\n",
        "  print(\"apple is not found\")\n",
        "}"
      ],
      "metadata": {
        "colab": {
          "base_uri": "https://localhost:8080/"
        },
        "id": "WrsNJX7qcNah",
        "outputId": "a3581fb5-d210-433e-ab9b-3dc9bad18a3f"
      },
      "execution_count": 5,
      "outputs": [
        {
          "output_type": "stream",
          "name": "stdout",
          "text": [
            "[1] \"apple is found\"\n"
          ]
        }
      ]
    },
    {
      "cell_type": "code",
      "source": [
        "# while loop\n",
        "counter <- 1\n",
        "while (counter <= 5) {\n",
        "  print(paste(\"Counter is:\", counter))\n",
        "  counter <- counter + 1  # Increment the counter\n",
        "}"
      ],
      "metadata": {
        "colab": {
          "base_uri": "https://localhost:8080/"
        },
        "id": "W_p4WnHScNYX",
        "outputId": "ceeeaa74-faef-4237-988a-78ef473d123f"
      },
      "execution_count": 6,
      "outputs": [
        {
          "output_type": "stream",
          "name": "stdout",
          "text": [
            "[1] \"Counter is: 1\"\n",
            "[1] \"Counter is: 2\"\n",
            "[1] \"Counter is: 3\"\n",
            "[1] \"Counter is: 4\"\n",
            "[1] \"Counter is: 5\"\n"
          ]
        }
      ]
    },
    {
      "cell_type": "code",
      "source": [
        "# r repeat loop\n",
        "counter <- 1\n",
        "repeat {\n",
        "  print(paste(\"Counter is:\", counter))\n",
        "  counter <- counter + 1\n",
        "  if (counter > 5) {\n",
        "    break\n",
        "  }\n",
        "}"
      ],
      "metadata": {
        "colab": {
          "base_uri": "https://localhost:8080/"
        },
        "id": "wLDOKZgncNWb",
        "outputId": "3cb3485b-6fce-4804-f716-06bb52c09871"
      },
      "execution_count": 7,
      "outputs": [
        {
          "output_type": "stream",
          "name": "stdout",
          "text": [
            "[1] \"Counter is: 1\"\n",
            "[1] \"Counter is: 2\"\n",
            "[1] \"Counter is: 3\"\n",
            "[1] \"Counter is: 4\"\n",
            "[1] \"Counter is: 5\"\n"
          ]
        }
      ]
    },
    {
      "cell_type": "code",
      "source": [
        "# for loop\n",
        "numbers <- c(1, 2, 3, 4, 5)\n",
        "for (num in numbers) {\n",
        "  print(paste(\"Current number is:\", num))\n",
        "}"
      ],
      "metadata": {
        "colab": {
          "base_uri": "https://localhost:8080/"
        },
        "id": "UdQGuvRjcNS4",
        "outputId": "2e4ed67f-a2bd-49e0-c690-149149e96a3c"
      },
      "execution_count": 8,
      "outputs": [
        {
          "output_type": "stream",
          "name": "stdout",
          "text": [
            "[1] \"Current number is: 1\"\n",
            "[1] \"Current number is: 2\"\n",
            "[1] \"Current number is: 3\"\n",
            "[1] \"Current number is: 4\"\n",
            "[1] \"Current number is: 5\"\n"
          ]
        }
      ]
    },
    {
      "cell_type": "code",
      "source": [
        "# next statement using for loop\n",
        "numbers <- 1:10\n",
        "for (num in numbers) {\n",
        "  if (num == 5) {\n",
        "    next\n",
        "  }\n",
        "  print(num)\n",
        "}"
      ],
      "metadata": {
        "colab": {
          "base_uri": "https://localhost:8080/"
        },
        "id": "wt2MEYlGcNRX",
        "outputId": "d256d73d-9ff8-4642-c602-ad80c7bf5599"
      },
      "execution_count": 9,
      "outputs": [
        {
          "output_type": "stream",
          "name": "stdout",
          "text": [
            "[1] 1\n",
            "[1] 2\n",
            "[1] 3\n",
            "[1] 4\n",
            "[1] 6\n",
            "[1] 7\n",
            "[1] 8\n",
            "[1] 9\n",
            "[1] 10\n"
          ]
        }
      ]
    },
    {
      "cell_type": "code",
      "source": [
        "# for loop with next statement\n",
        "words <- c(\"apple\", \"banana\", \"cherry\", \"date\", \"elderberry\")\n",
        "for (word in words) {\n",
        "  if (word == \"cherry\") {\n",
        "    next\n",
        "  }\n",
        "  print(word)\n",
        "}"
      ],
      "metadata": {
        "colab": {
          "base_uri": "https://localhost:8080/"
        },
        "id": "1iEpd_rccNPR",
        "outputId": "f813cd5e-7e3a-41a2-82f2-3b63e4cc9905"
      },
      "execution_count": 10,
      "outputs": [
        {
          "output_type": "stream",
          "name": "stdout",
          "text": [
            "[1] \"apple\"\n",
            "[1] \"banana\"\n",
            "[1] \"date\"\n",
            "[1] \"elderberry\"\n"
          ]
        }
      ]
    },
    {
      "cell_type": "code",
      "source": [
        "# functions\n",
        "square <- function(x) {\n",
        "  return(x^2)\n",
        "}\n",
        "result1 <- square(4)\n",
        "result2 <- square(7)\n",
        "print(paste(\"The square of 4 is:\", result1))\n",
        "print(paste(\"The square of 7 is:\", result2))\n"
      ],
      "metadata": {
        "colab": {
          "base_uri": "https://localhost:8080/"
        },
        "id": "2W2oZ9MbcNNi",
        "outputId": "54a89a41-f38c-4cf4-ccc1-489c512b1295"
      },
      "execution_count": 12,
      "outputs": [
        {
          "output_type": "stream",
          "name": "stdout",
          "text": [
            "[1] \"The square of 4 is: 16\"\n",
            "[1] \"The square of 7 is: 49\"\n"
          ]
        }
      ]
    },
    {
      "cell_type": "code",
      "source": [],
      "metadata": {
        "id": "MjqS8WD7cNCq"
      },
      "execution_count": null,
      "outputs": []
    },
    {
      "cell_type": "code",
      "source": [
        "# function with argument\n",
        "multiply <- function(a = 2, b = 5) {\n",
        "  z <- a * b\n",
        "  print(z)\n",
        "}\n",
        "multiply()\n",
        "multiply(4, 7)\n",
        "\n"
      ],
      "metadata": {
        "colab": {
          "base_uri": "https://localhost:8080/"
        },
        "id": "dLfaMOC8cM_U",
        "outputId": "5a5281af-ebfd-47d7-ce76-e39702728c7d"
      },
      "execution_count": 14,
      "outputs": [
        {
          "output_type": "stream",
          "name": "stdout",
          "text": [
            "[1] 10\n",
            "[1] 28\n"
          ]
        }
      ]
    },
    {
      "cell_type": "code",
      "source": [
        "# lazy evaluation of functions\n",
        "new <- function(a, b = 5) {\n",
        "  print(a^2)\n",
        "  print(a)\n",
        "  print(b)\n",
        "}\n",
        "new(2)"
      ],
      "metadata": {
        "colab": {
          "base_uri": "https://localhost:8080/"
        },
        "id": "rzv3cMDIdskQ",
        "outputId": "2d7b2d4d-b4a3-4a17-fb61-3b4e8e3984a1"
      },
      "execution_count": 15,
      "outputs": [
        {
          "output_type": "stream",
          "name": "stdout",
          "text": [
            "[1] 4\n",
            "[1] 2\n",
            "[1] 5\n"
          ]
        }
      ]
    },
    {
      "cell_type": "code",
      "source": [
        "# lazy evaluation of functions\n",
        "new <- function(a, b = 5) {\n",
        "  print(a^2)\n",
        "  print(a)\n",
        "  print(b)\n",
        "}\n",
        "new(2)"
      ],
      "metadata": {
        "colab": {
          "base_uri": "https://localhost:8080/"
        },
        "id": "oc7vx2Dedsg4",
        "outputId": "61efb32e-b206-46ba-eebe-cffd52171b18"
      },
      "execution_count": 16,
      "outputs": [
        {
          "output_type": "stream",
          "name": "stdout",
          "text": [
            "[1] 4\n",
            "[1] 2\n",
            "[1] 5\n"
          ]
        }
      ]
    },
    {
      "cell_type": "code",
      "source": [
        "#\n",
        "a <- \"Good\"\n",
        "b <- 'Morning'\n",
        "c <- \"Everyone!\"\n",
        "\n",
        "print(paste(a, b, c))\n",
        "print(paste(a, b, c, sep = \"-\"))\n",
        "print(paste(a, b, c, sep = \"\", collapse = \"\"))"
      ],
      "metadata": {
        "colab": {
          "base_uri": "https://localhost:8080/"
        },
        "id": "i0A6DXSmdsee",
        "outputId": "f55727db-e7c6-47cd-9fa1-24c7c6314fe6"
      },
      "execution_count": 17,
      "outputs": [
        {
          "output_type": "stream",
          "name": "stdout",
          "text": [
            "[1] \"Good Morning Everyone!\"\n",
            "[1] \"Good-Morning-Everyone!\"\n",
            "[1] \"GoodMorningEveryone!\"\n"
          ]
        }
      ]
    },
    {
      "cell_type": "code",
      "source": [
        "\n",
        "# Formatting a number with 2 decimal places\n",
        "num <- 123.456\n",
        "formatted_num <- format(num, nsmall = 2)\n",
        "print(formatted_num)\n"
      ],
      "metadata": {
        "colab": {
          "base_uri": "https://localhost:8080/"
        },
        "id": "_mTwr3r-dsak",
        "outputId": "b41d46e5-9d77-483b-fa68-9e9f8ad5033f"
      },
      "execution_count": 18,
      "outputs": [
        {
          "output_type": "stream",
          "name": "stdout",
          "text": [
            "[1] \"123.456\"\n"
          ]
        }
      ]
    },
    {
      "cell_type": "code",
      "source": [
        "# R Strings\n",
        "a <- 'what is your name?'\n",
        "print(a)\n",
        "b <- \"my name is RAJ\"\n",
        "print(b)\n",
        "\n"
      ],
      "metadata": {
        "colab": {
          "base_uri": "https://localhost:8080/"
        },
        "id": "bNpniBQNdsYV",
        "outputId": "869015d9-e1aa-4e4c-a269-3ede6e51b4da"
      },
      "execution_count": 19,
      "outputs": [
        {
          "output_type": "stream",
          "name": "stdout",
          "text": [
            "[1] \"what is your name?\"\n",
            "[1] \"my name is RAJ\"\n"
          ]
        }
      ]
    },
    {
      "cell_type": "code",
      "source": [
        "# Formatting a string\n",
        "str <- \"Hello\"\n",
        "formatted_str <- format(str, width = 10, justify = \"centre\")  # Corrected justify value\n",
        "print(formatted_str)"
      ],
      "metadata": {
        "colab": {
          "base_uri": "https://localhost:8080/"
        },
        "id": "5YKBdkEMdsWT",
        "outputId": "ae2c50a3-2317-4603-f2e8-4fa98aaf9a4b"
      },
      "execution_count": 20,
      "outputs": [
        {
          "output_type": "stream",
          "name": "stdout",
          "text": [
            "[1] \"  Hello   \"\n"
          ]
        }
      ]
    },
    {
      "cell_type": "code",
      "source": [
        "# function without argument\n",
        "multiples_of_3 <- function() {\n",
        "  for (i in 1:5) {\n",
        "    print(i * 3)\n",
        "  }\n",
        "}\n",
        "multiples_of_3()"
      ],
      "metadata": {
        "colab": {
          "base_uri": "https://localhost:8080/"
        },
        "id": "hDLIzEmWdsUJ",
        "outputId": "11149b7f-6c90-4c03-fd0e-f099fd1d719a"
      },
      "execution_count": 13,
      "outputs": [
        {
          "output_type": "stream",
          "name": "stdout",
          "text": [
            "[1] 3\n",
            "[1] 6\n",
            "[1] 9\n",
            "[1] 12\n",
            "[1] 15\n"
          ]
        }
      ]
    },
    {
      "cell_type": "code",
      "source": [],
      "metadata": {
        "id": "JMJ8QawUdsSD"
      },
      "execution_count": null,
      "outputs": []
    },
    {
      "cell_type": "code",
      "source": [],
      "metadata": {
        "id": "-SY8zR6_dsPu"
      },
      "execution_count": null,
      "outputs": []
    },
    {
      "cell_type": "code",
      "source": [],
      "metadata": {
        "id": "DwcwTNSUdsNc"
      },
      "execution_count": null,
      "outputs": []
    },
    {
      "cell_type": "code",
      "source": [],
      "metadata": {
        "id": "ulBEvn_TefGx"
      },
      "execution_count": null,
      "outputs": []
    },
    {
      "cell_type": "code",
      "source": [
        "\n",
        "set.seed(123)\n",
        "time <- 1:100\n",
        "value <- cumsum(rnorm(100)) # Cumulative sum of random values\n",
        "\n",
        "# line chart\n",
        "set.seed(123)\n",
        "time <- 1:100\n",
        "value <- cumsum(rnorm(100)) # Cumulative sum of random values\n",
        "\n",
        "plot(time, value, type = \"l\", col = \"blue\", lwd = 2,\n",
        "     main = \"Line Chart of Random Data\", xlab = \"Time\", ylab = \"Value\")"
      ],
      "metadata": {
        "colab": {
          "base_uri": "https://localhost:8080/",
          "height": 437
        },
        "id": "jSpNKvcrefDS",
        "outputId": "baf5b7d2-5457-425b-8255-747b1e087181"
      },
      "execution_count": 8,
      "outputs": [
        {
          "output_type": "display_data",
          "data": {
            "text/plain": [
              "Plot with title “Line Chart of Random Data”"
            ],
            "image/png": "[encoded data removed]"
          },
          "metadata": {
            "image/png": {
              "width": 420,
              "height": 420
            }
          }
        }
      ]
    },
    {
      "cell_type": "code",
      "source": [
        "# histogram\n",
        "set.seed(123)\n",
        "values <- rnorm(1000, mean = 50, sd = 10)\n",
        "\n",
        "# Create histogram\n",
        "hist(values, breaks = 20, col = \"skyblue\", border = \"black\",\n",
        "     main = \"Histogram of Values\", xlab = \"Value\", ylab = \"Frequency\")"
      ],
      "metadata": {
        "colab": {
          "base_uri": "https://localhost:8080/",
          "height": 437
        },
        "id": "AfIw5GMoefA4",
        "outputId": "eae2575a-88f0-4918-e8d1-fb6a6862e318"
      },
      "execution_count": 7,
      "outputs": [
        {
          "output_type": "display_data",
          "data": {
            "text/plain": [
              "Plot with title “Histogram of Values”"
            ],
            "image/png": "[encoded data removed]"
          },
          "metadata": {
            "image/png": {
              "width": 420,
              "height": 420
            }
          }
        }
      ]
    },
    {
      "cell_type": "code",
      "source": [
        "# scatter plot\n",
        "x <- c(1, 2, 3, 4)\n",
        "y <- c(25, 35, 20, 20)\n",
        "# Labels for the points\n",
        "labels <- c(\"Category A\", \"Category B\", \"Category C\", \"Category D\")\n",
        "# Create the scatter plot\n",
        "plot(x, y, main = \"Simple Scatter Plot\", xlab = \"Categories\", ylab = \"Values\",\n",
        "     pch = 19, col = rainbow(length(x)), xaxt = \"n\")\n",
        "# Add custom x-axis labels\n",
        "axis(1, at = x, labels = labels)\n"
      ],
      "metadata": {
        "colab": {
          "base_uri": "https://localhost:8080/",
          "height": 437
        },
        "id": "67Zk_8b-ee-R",
        "outputId": "eb313611-f414-424f-9b7c-ea8ac70de15a"
      },
      "execution_count": 6,
      "outputs": [
        {
          "output_type": "display_data",
          "data": {
            "text/plain": [
              "Plot with title “Simple Scatter Plot”"
            ],
            "image/png": "[encoded data removed]"
          },
          "metadata": {
            "image/png": {
              "width": 420,
              "height": 420
            }
          }
        }
      ]
    },
    {
      "cell_type": "code",
      "source": [
        "# pie chart\n",
        "x <- c(25, 35, 20, 20)\n",
        "labels <- c(\"Category A\", \"Category B\", \"Category C\", \"Category D\")\n",
        "pie(x, labels = labels, main = \"Simple Pie Chart\", col = rainbow(length(x)))\n"
      ],
      "metadata": {
        "colab": {
          "base_uri": "https://localhost:8080/",
          "height": 437
        },
        "id": "07dS3UHdee7U",
        "outputId": "098b4b98-a13f-45e6-bbcc-cae08d9a0ba5"
      },
      "execution_count": 5,
      "outputs": [
        {
          "output_type": "display_data",
          "data": {
            "text/plain": [
              "Plot with title “Simple Pie Chart”"
            ],
            "image/png": "[encoded data removed]"
          },
          "metadata": {
            "image/png": {
              "width": 420,
              "height": 420
            }
          }
        }
      ]
    },
    {
      "cell_type": "code",
      "source": [
        "# Extracting a part of a string using substring\n",
        "str <- \"Hello, world!\"\n",
        "sub_str <- substring(str, 1, 5)\n",
        "print(sub_str)\n"
      ],
      "metadata": {
        "colab": {
          "base_uri": "https://localhost:8080/"
        },
        "id": "5X0tibSDee4g",
        "outputId": "b3d7702e-defe-4133-9df6-ef502f35424a"
      },
      "execution_count": 4,
      "outputs": [
        {
          "output_type": "stream",
          "name": "stdout",
          "text": [
            "[1] \"Hello\"\n"
          ]
        }
      ]
    },
    {
      "cell_type": "code",
      "source": [
        "# Converting a string to lowercase\n",
        "lower_str <- tolower(str)\n",
        "print(lower_str)"
      ],
      "metadata": {
        "colab": {
          "base_uri": "https://localhost:8080/"
        },
        "id": "kKj3BacXee1l",
        "outputId": "342f8765-da60-41bf-dfb7-7dd18e993342"
      },
      "execution_count": 3,
      "outputs": [
        {
          "output_type": "stream",
          "name": "stdout",
          "text": [
            "[1] \"hello, world!\"\n"
          ]
        }
      ]
    },
    {
      "cell_type": "code",
      "source": [
        "\n",
        "\n",
        "# Converting a string to uppercase\n",
        "str <- \"Hello, world!\"\n",
        "upper_str <- toupper(str)\n",
        "print(upper_str)"
      ],
      "metadata": {
        "colab": {
          "base_uri": "https://localhost:8080/"
        },
        "id": "YDsfXjfpeeyv",
        "outputId": "a78143b3-37d4-4341-9f27-3a97128916b5"
      },
      "execution_count": 2,
      "outputs": [
        {
          "output_type": "stream",
          "name": "stdout",
          "text": [
            "[1] \"HELLO, WORLD!\"\n"
          ]
        }
      ]
    },
    {
      "cell_type": "code",
      "source": [
        "# Counting the number of characters in a string\n",
        "str <- \"Hello, world!\"\n",
        "char_count <- nchar(str)\n",
        "print(char_count)"
      ],
      "metadata": {
        "colab": {
          "base_uri": "https://localhost:8080/"
        },
        "id": "sqhpdzDLeev3",
        "outputId": "51ec240d-eb2a-4b37-e0b4-ad62e691b2d3"
      },
      "execution_count": 1,
      "outputs": [
        {
          "output_type": "stream",
          "name": "stdout",
          "text": [
            "[1] 13\n"
          ]
        }
      ]
    },
    {
      "cell_type": "code",
      "source": [],
      "metadata": {
        "id": "ZOnFxsALeetJ"
      },
      "execution_count": null,
      "outputs": []
    },
    {
      "cell_type": "code",
      "source": [],
      "metadata": {
        "id": "6VtxGWs0eeqM"
      },
      "execution_count": null,
      "outputs": []
    },
    {
      "cell_type": "code",
      "source": [],
      "metadata": {
        "id": "IU6-DSZfeenk"
      },
      "execution_count": null,
      "outputs": []
    },
    {
      "cell_type": "code",
      "source": [],
      "metadata": {
        "id": "u8jbnXg9eekv"
      },
      "execution_count": null,
      "outputs": []
    },
    {
      "cell_type": "code",
      "source": [],
      "metadata": {
        "id": "FIDtvejJeeiH"
      },
      "execution_count": null,
      "outputs": []
    },
    {
      "cell_type": "code",
      "source": [],
      "metadata": {
        "id": "qMxFBEoGeefM"
      },
      "execution_count": null,
      "outputs": []
    },
    {
      "cell_type": "code",
      "source": [],
      "metadata": {
        "id": "YZRfKhTHeecr"
      },
      "execution_count": null,
      "outputs": []
    }
  ]
}